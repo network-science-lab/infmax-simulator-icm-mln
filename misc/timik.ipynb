{
 "cells": [
  {
   "cell_type": "code",
   "execution_count": null,
   "metadata": {},
   "outputs": [],
   "source": [
    "import datetime\n",
    "from pathlib import Path\n",
    "\n",
    "import networkx as nx\n",
    "import network_diffusion as nd\n",
    "import pandas as pd\n",
    "\n",
    "from misc import net_loader"
   ]
  },
  {
   "cell_type": "code",
   "execution_count": null,
   "metadata": {},
   "outputs": [],
   "source": [
    "def filter_df(df):\n",
    "    lower_b = df[\"date\"] > datetime.datetime(2009, 1, 1)\n",
    "    upper_b = df[\"date\"] < datetime.datetime(2009, 3, 31)\n",
    "    return df[lower_b & upper_b]"
   ]
  },
  {
   "cell_type": "markdown",
   "metadata": {},
   "source": [
    "## Load nets"
   ]
  },
  {
   "cell_type": "code",
   "execution_count": null,
   "metadata": {},
   "outputs": [],
   "source": [
    "base_path = Path(\"/workspace/shared/ns/timik_dataset\")\n",
    "\n",
    "campaigns_path = base_path / \"campaigns.csv\"  # this layer is skipped\n",
    "friends_path = base_path / \"friends.csv\"  # this layer as well\n",
    "messages_path = base_path / \"messages.csv\"\n",
    "transactions_path = base_path / \"transactions.csv\"\n",
    "visits_path = base_path / \"visits.csv\"\n",
    "# skip logins.csv - no edges there!"
   ]
  },
  {
   "cell_type": "code",
   "execution_count": null,
   "metadata": {},
   "outputs": [],
   "source": [
    "campaigns_dtypes = {0: \"str\", 1: \"str\", 2: \"str\", 3: \"str\"}\n",
    "campaigns_df = pd.read_csv(campaigns_path, sep=';', header=None, dtype=campaigns_dtypes, parse_dates=[1]).rename(\n",
    "    columns={0: \"capmaign_id\", 1: \"date\", 2: \"source\", 3: \"target\"}\n",
    ")\n",
    "campaigns_df[\"layer\"] = \"campaign\"\n",
    "campaigns_dff = filter_df(campaigns_df)\n",
    "\n",
    "print(len(campaigns_df), len(campaigns_dff))\n",
    "campaigns_dff.head()"
   ]
  },
  {
   "cell_type": "code",
   "execution_count": null,
   "metadata": {},
   "outputs": [],
   "source": [
    "c = nx.from_pandas_edgelist(campaigns_dff)\n",
    "len(c), nx.number_connected_components(c)"
   ]
  },
  {
   "cell_type": "code",
   "execution_count": null,
   "metadata": {},
   "outputs": [],
   "source": [
    "friends_dtypes = {0: \"str\", 1: \"str\", 2: \"str\"}\n",
    "friends_df = pd.read_csv(friends_path, sep=';', header=None, dtype=friends_dtypes, parse_dates=[0]).rename(\n",
    "    columns={0: \"date\", 1: \"source\", 2: \"target\"}\n",
    ")\n",
    "friends_df[\"layer\"] = \"friends\"\n",
    "friends_dff = filter_df(friends_df)\n",
    "\n",
    "print(len(friends_df), len(friends_dff))\n",
    "friends_dff.head()"
   ]
  },
  {
   "cell_type": "code",
   "execution_count": null,
   "metadata": {},
   "outputs": [],
   "source": [
    "f = nx.from_pandas_edgelist(friends_dff)\n",
    "len(f), nx.number_connected_components(f)"
   ]
  },
  {
   "cell_type": "code",
   "execution_count": null,
   "metadata": {},
   "outputs": [],
   "source": [
    "messages_dtypes = {0: \"str\", 1: \"str\", 2: \"str\"}\n",
    "messages_df = pd.read_csv(messages_path, sep=';', header=None, dtype=messages_dtypes, parse_dates=[0]).rename(\n",
    "    columns={0: \"date\", 1: \"source\", 2: \"target\"}\n",
    ")\n",
    "messages_df[\"layer\"] = \"messages\"\n",
    "messages_dff = filter_df(messages_df)\n",
    "\n",
    "print(len(messages_df), len(messages_dff))\n",
    "messages_dff.head()"
   ]
  },
  {
   "cell_type": "code",
   "execution_count": null,
   "metadata": {},
   "outputs": [],
   "source": [
    "m = nx.from_pandas_edgelist(messages_dff)\n",
    "len(m), nx.number_connected_components(m)"
   ]
  },
  {
   "cell_type": "code",
   "execution_count": null,
   "metadata": {},
   "outputs": [],
   "source": [
    "transactions_dtypes = {0: \"str\", 1: \"str\", 2: \"str\", 3: \"str\"}\n",
    "transactions_df = pd.read_csv(transactions_path, sep=';', header=None, dtype=transactions_dtypes, parse_dates=[0]).rename(\n",
    "    columns={0: \"date\", 1: \"source\", 2: \"target\", 3: \"amount\"}\n",
    ")\n",
    "transactions_df[\"layer\"] = \"transactions\"\n",
    "transactions_dff = filter_df(transactions_df)\n",
    "\n",
    "print(len(transactions_df), len(transactions_dff))\n",
    "transactions_dff.head()"
   ]
  },
  {
   "cell_type": "code",
   "execution_count": null,
   "metadata": {},
   "outputs": [],
   "source": [
    "t = nx.from_pandas_edgelist(transactions_dff)\n",
    "len(t), nx.number_connected_components(t)"
   ]
  },
  {
   "cell_type": "code",
   "execution_count": null,
   "metadata": {},
   "outputs": [],
   "source": [
    "visits_dtypes = {0: \"str\", 1: \"str\", 2: \"str\"}\n",
    "visits_df = pd.read_csv(visits_path, sep=';', header=None, dtype=visits_dtypes, parse_dates=[0]).rename(\n",
    "    columns={0: \"date\", 1: \"source\", 2: \"target\"}\n",
    ")\n",
    "visits_df[\"layer\"] = \"visits\"\n",
    "visits_dff = filter_df(visits_df)\n",
    "\n",
    "print(len(visits_df), len(visits_dff))\n",
    "visits_dff.head()"
   ]
  },
  {
   "cell_type": "code",
   "execution_count": null,
   "metadata": {},
   "outputs": [],
   "source": [
    "v = nx.from_pandas_edgelist(visits_dff)\n",
    "len(v), nx.number_connected_components(v)"
   ]
  },
  {
   "cell_type": "markdown",
   "metadata": {},
   "source": [
    "## Summary of layers"
   ]
  },
  {
   "cell_type": "code",
   "execution_count": null,
   "metadata": {},
   "outputs": [],
   "source": [
    "nets = {\"messages\": [m, messages_dff], \"transactions\": [t, transactions_dff], \"visits\": [v, visits_dff]}"
   ]
  },
  {
   "cell_type": "code",
   "execution_count": null,
   "metadata": {},
   "outputs": [],
   "source": [
    "def print_net(net): print(f\"num nodes, {len(net.nodes())}, num edges: {len(net.edges)}, density: {nx.density(net)}\")\n",
    "\n",
    "actors = []\n",
    "for name, (net, _) in nets.items():\n",
    "    actors.extend([*net.nodes()])\n",
    "    print(name), print_net(net)"
   ]
  },
  {
   "cell_type": "code",
   "execution_count": null,
   "metadata": {},
   "outputs": [],
   "source": [
    "print(\"sum nodes: \", sum([len(n.nodes()) for n, _ in nets.values()]))\n",
    "print(\"sum edges: \", sum([len(n.edges()) for n, _ in nets.values()]))\n",
    "print(\"sum actors: \", len(set(actors)))"
   ]
  },
  {
   "cell_type": "markdown",
   "metadata": {},
   "source": [
    "## Save layers"
   ]
  },
  {
   "cell_type": "code",
   "execution_count": null,
   "metadata": {},
   "outputs": [],
   "source": [
    "out_path = Path(\"data/networks/timik1q2009\")\n",
    "out_path.mkdir(exist_ok=True, parents=True)\n",
    "\n",
    "def save_df(df, name):\n",
    "    df.reset_index().drop(\"index\", axis=1).to_csv(out_path / f\"{name}.csv\")\n",
    "\n",
    "def save_graph(net, name):\n",
    "    edge_list = list(net.edges(data=False))\n",
    "    df = pd.DataFrame(edge_list, columns=['source', 'target'])\n",
    "    df.to_csv(out_path / f\"{name}.csv\", index=False)"
   ]
  },
  {
   "cell_type": "code",
   "execution_count": null,
   "metadata": {},
   "outputs": [],
   "source": [
    "for name, (net, df) in nets.items():\n",
    "    save_graph(net, name)"
   ]
  },
  {
   "cell_type": "markdown",
   "metadata": {},
   "source": [
    "## Sanity check"
   ]
  },
  {
   "cell_type": "code",
   "execution_count": null,
   "metadata": {},
   "outputs": [],
   "source": [
    "layer_graphs = []\n",
    "layer_names = []\n",
    "\n",
    "for i in out_path.glob(\"*.csv\"):\n",
    "    layer_names.append(i.stem)\n",
    "    layer_graphs.append(nx.from_pandas_edgelist(pd.read_csv(i)))"
   ]
  },
  {
   "cell_type": "code",
   "execution_count": null,
   "metadata": {},
   "outputs": [],
   "source": [
    "timik1q2009 = nd.MultilayerNetwork.from_nx_layers(network_list=layer_graphs, layer_names=layer_names)"
   ]
  },
  {
   "cell_type": "code",
   "execution_count": null,
   "metadata": {},
   "outputs": [],
   "source": [
    "print(timik1q2009)"
   ]
  },
  {
   "cell_type": "markdown",
   "metadata": {},
   "source": [
    "## Reference networks"
   ]
  },
  {
   "cell_type": "code",
   "execution_count": null,
   "metadata": {},
   "outputs": [],
   "source": [
    "cannes = net_loader.get_cannes_network()\n",
    "print(cannes)"
   ]
  },
  {
   "cell_type": "code",
   "execution_count": null,
   "metadata": {},
   "outputs": [],
   "source": [
    "arxiv = net_loader.get_arxiv_network()\n",
    "print(arxiv)"
   ]
  }
 ],
 "metadata": {
  "kernelspec": {
   "display_name": "ltm-seeding-mln",
   "language": "python",
   "name": "ltm-seeding-mln"
  },
  "language_info": {
   "codemirror_mode": {
    "name": "ipython",
    "version": 3
   },
   "file_extension": ".py",
   "mimetype": "text/x-python",
   "name": "python",
   "nbconvert_exporter": "python",
   "pygments_lexer": "ipython3",
   "version": "3.10.13"
  }
 },
 "nbformat": 4,
 "nbformat_minor": 2
}
